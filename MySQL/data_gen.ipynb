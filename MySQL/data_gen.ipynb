{
 "cells": [
  {
   "cell_type": "code",
   "execution_count": 12,
   "metadata": {},
   "outputs": [
    {
     "name": "stdout",
     "output_type": "stream",
     "text": [
      "INSERT INTO record VALUES (id, 0.13, 73.75, '-42.589576,100.45292', 68, 292, '2024-06-14 17:40:25', 1);\n",
      "INSERT INTO record VALUES (id, 0.05, 53.88, '27.788292,-141.635203', 0, 129, '2024-06-11 04:14:25', 1);\n",
      "INSERT INTO record VALUES (id, 0.22, 95.96, '50.996753,75.186727', 41, 144, '2024-06-15 08:39:25', 2);\n",
      "INSERT INTO record VALUES (id, 0.23, 70.31, '57.321243,-178.95776', 75, 48, '2024-06-13 22:42:25', 1);\n",
      "INSERT INTO record VALUES (id, 0.09, 76.94, '-18.048039,107.937415', 22, 268, '2024-06-11 05:34:25', 1);\n",
      "INSERT INTO record VALUES (id, 0.2, 49.03, '-26.333467,122.676241', 20, 124, '2024-06-16 02:42:25', 1);\n",
      "INSERT INTO record VALUES (id, 0.24, 90.64, '77.131287,-129.79765', 112, 316, '2024-06-16 13:16:25', 1);\n",
      "INSERT INTO record VALUES (id, 0.25, 9.38, '88.666243,-170.65599', 59, 285, '2024-06-15 23:35:25', 2);\n",
      "INSERT INTO record VALUES (id, 0.13, 26.64, '29.276407,-39.396788', 90, 285, '2024-06-10 01:47:25', 3);\n",
      "INSERT INTO record VALUES (id, 0.01, 7.63, '89.09481,-128.28166', 106, 246, '2024-06-09 23:02:25', 1);\n",
      "INSERT INTO record VALUES (id, 0.19, 36.88, '-50.893002,-170.437457', 82, 164, '2024-06-13 21:26:25', 1);\n",
      "INSERT INTO record VALUES (id, 0.14, 20.07, '-47.452365,-176.765751', 80, 126, '2024-06-09 23:55:25', 4);\n",
      "INSERT INTO record VALUES (id, 0.22, 14.72, '80.944398,-115.791231', 93, 143, '2024-06-12 09:53:25', 3);\n",
      "INSERT INTO record VALUES (id, 0.16, 25.85, '-39.94278,61.661925', 22, 277, '2024-06-12 15:57:25', 1);\n",
      "INSERT INTO record VALUES (id, 0.11, 12.71, '26.640254,115.077993', 37, 140, '2024-06-14 12:54:25', 1);\n",
      "INSERT INTO record VALUES (id, 0.25, 66.95, '14.283225,-71.392447', 72, 66, '2024-06-12 04:12:25', 1);\n",
      "INSERT INTO record VALUES (id, 0.17, 8.89, '18.995589,169.225523', 113, 142, '2024-06-14 17:27:25', 4);\n",
      "INSERT INTO record VALUES (id, 0.05, 67.14, '-40.175106,-115.278231', 46, 180, '2024-06-11 16:10:25', 3);\n",
      "INSERT INTO record VALUES (id, 0.2, 17.72, '32.489721,-1.990475', 105, 61, '2024-06-12 10:46:25', 2);\n",
      "INSERT INTO record VALUES (id, 0.03, 29.8, '-57.50958,-131.085724', 40, 27, '2024-06-13 13:11:25', 3);\n"
     ]
    }
   ],
   "source": [
    "import random\n",
    "import datetime\n",
    "\n",
    "# Function to generate random data for the 'user' table\n",
    "def generate_user_data(num_records):\n",
    "    data = []\n",
    "    for _ in range(num_records):\n",
    "        id = \"id\"\n",
    "        alcohol_concentration = round(random.uniform(0, 0.3), 2)  # Example range\n",
    "        temperature = round(random.uniform(0.0, 100.0), 2)  # Example range\n",
    "        latitude = round(random.uniform(-90.0, 90.0), 6)\n",
    "        longitude = round(random.uniform(-180.0, 180.0), 6)\n",
    "        coordinate = f\"{latitude},{longitude}\"\n",
    "        speed = random.randint(0, 120)  # Example range\n",
    "        heading = random.randint(0, 360)  # Heading range from 0 to 360 degrees\n",
    "        datetime_value = (datetime.datetime.now() - datetime.timedelta(minutes=random.randint(0, 10000))).strftime('%Y-%m-%d %H:%M:%S')  # Random datetime within the last ~7 days\n",
    "        userID = random.randint(1, 4)\n",
    "        data.append((id, alcohol_concentration, temperature, coordinate, speed, heading, datetime_value, userID))\n",
    "    return data\n",
    "\n",
    "# Generate 100 records\n",
    "user_data = generate_user_data(20)\n",
    "\n",
    "for record in user_data:\n",
    "    print(f\"INSERT INTO record VALUES ({record[0]}, {record[1]}, {record[2]}, '{record[3]}', {record[4]}, {record[5]}, '{record[6]}', {record[7]});\")\n"
   ]
  }
 ],
 "metadata": {
  "kernelspec": {
   "display_name": "Python 3",
   "language": "python",
   "name": "python3"
  },
  "language_info": {
   "codemirror_mode": {
    "name": "ipython",
    "version": 3
   },
   "file_extension": ".py",
   "mimetype": "text/x-python",
   "name": "python",
   "nbconvert_exporter": "python",
   "pygments_lexer": "ipython3",
   "version": "3.10.1"
  }
 },
 "nbformat": 4,
 "nbformat_minor": 2
}
